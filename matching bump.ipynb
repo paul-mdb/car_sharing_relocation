{
 "cells": [
  {
   "cell_type": "code",
   "execution_count": 39,
   "id": "25f26bce",
   "metadata": {},
   "outputs": [],
   "source": [
    "import pandas as pd\n",
    "from datetime import datetime\n",
    "charging_session = pd.read_csv('charging_sessions2.csv')\n",
    "bump = pd.read_csv('bump.csv')"
   ]
  },
  {
   "cell_type": "code",
   "execution_count": 40,
   "id": "a8afb137",
   "metadata": {},
   "outputs": [],
   "source": [
    "bump.columns = bump.iloc[21]\n",
    "bump = bump.iloc[22:-6,:]\n",
    "bump.reset_index(drop=True, inplace=True)\n",
    "bump['Date']= pd.to_datetime(bump['Date'].astype(str), infer_datetime_format=True)"
   ]
  },
  {
   "cell_type": "code",
   "execution_count": 41,
   "id": "a2c55ddf",
   "metadata": {},
   "outputs": [],
   "source": [
    "charging_session['start_date']= pd.to_datetime(charging_session['start_date'].astype(str), infer_datetime_format=True)\n",
    "charging_session['end_date']= pd.to_datetime(charging_session['end_date'].astype(str), infer_datetime_format=True)"
   ]
  },
  {
   "cell_type": "code",
   "execution_count": 45,
   "id": "6a0dd2c2",
   "metadata": {},
   "outputs": [
    {
     "data": {
      "text/html": [
       "<div>\n",
       "<style scoped>\n",
       "    .dataframe tbody tr th:only-of-type {\n",
       "        vertical-align: middle;\n",
       "    }\n",
       "\n",
       "    .dataframe tbody tr th {\n",
       "        vertical-align: top;\n",
       "    }\n",
       "\n",
       "    .dataframe thead th {\n",
       "        text-align: right;\n",
       "    }\n",
       "</style>\n",
       "<table border=\"1\" class=\"dataframe\">\n",
       "  <thead>\n",
       "    <tr style=\"text-align: right;\">\n",
       "      <th></th>\n",
       "      <th>Unnamed: 0</th>\n",
       "      <th>plate_number</th>\n",
       "      <th>model</th>\n",
       "      <th>start_date</th>\n",
       "      <th>end_date</th>\n",
       "      <th>start_battery</th>\n",
       "      <th>end_battery</th>\n",
       "      <th>adress</th>\n",
       "      <th>driver</th>\n",
       "      <th>next_driver</th>\n",
       "      <th>...</th>\n",
       "      <th>day</th>\n",
       "      <th>created_id</th>\n",
       "      <th>last_mileage</th>\n",
       "      <th>last_plate</th>\n",
       "      <th>distance</th>\n",
       "      <th>kWh</th>\n",
       "      <th>kWh_used</th>\n",
       "      <th>battery_used</th>\n",
       "      <th>consumption</th>\n",
       "      <th>site</th>\n",
       "    </tr>\n",
       "  </thead>\n",
       "  <tbody>\n",
       "    <tr>\n",
       "      <th>0</th>\n",
       "      <td>1</td>\n",
       "      <td>FB-386-YK</td>\n",
       "      <td>ZOE</td>\n",
       "      <td>2022-03-30 11:30:13</td>\n",
       "      <td>2022-03-30 13:18:19</td>\n",
       "      <td>9.0</td>\n",
       "      <td>85.0</td>\n",
       "      <td>22 Rue Yves Kermen, 92100 Boulogne-Billancourt...</td>\n",
       "      <td>Van Huy NGUYEN</td>\n",
       "      <td>Van Huy NGUYEN</td>\n",
       "      <td>...</td>\n",
       "      <td>89</td>\n",
       "      <td>FB-386-YKVan Huy NGUYEN89</td>\n",
       "      <td>NaN</td>\n",
       "      <td>NaN</td>\n",
       "      <td>0.0</td>\n",
       "      <td>30.4</td>\n",
       "      <td>NaN</td>\n",
       "      <td>NaN</td>\n",
       "      <td>NaN</td>\n",
       "      <td>BMP - Parking AVE - 17e | 7 Rue Christine de P...</td>\n",
       "    </tr>\n",
       "    <tr>\n",
       "      <th>1</th>\n",
       "      <td>7</td>\n",
       "      <td>FB-386-YK</td>\n",
       "      <td>ZOE</td>\n",
       "      <td>2022-04-11 20:19:00</td>\n",
       "      <td>2022-04-13 19:55:24</td>\n",
       "      <td>15.0</td>\n",
       "      <td>100.0</td>\n",
       "      <td>26 Bd des Frères Voisin, 75015 Paris, France</td>\n",
       "      <td>Madil Berkani</td>\n",
       "      <td>Madil Berkani</td>\n",
       "      <td>...</td>\n",
       "      <td>101</td>\n",
       "      <td>FB-386-YKClient101</td>\n",
       "      <td>15939.0</td>\n",
       "      <td>FB-386-YK</td>\n",
       "      <td>163.0</td>\n",
       "      <td>34.0</td>\n",
       "      <td>28.0</td>\n",
       "      <td>70.0</td>\n",
       "      <td>0.171779</td>\n",
       "      <td>Freshmile/SUERDA | 26 Allée des Frères Voisin</td>\n",
       "    </tr>\n",
       "    <tr>\n",
       "      <th>2</th>\n",
       "      <td>9</td>\n",
       "      <td>FB-386-YK</td>\n",
       "      <td>ZOE</td>\n",
       "      <td>2022-04-18 16:39:24</td>\n",
       "      <td>2022-04-19 19:16:26</td>\n",
       "      <td>14.0</td>\n",
       "      <td>100.0</td>\n",
       "      <td>12 Rue de lÉcole de Médecine, 75006 Paris, France</td>\n",
       "      <td>luc talbot</td>\n",
       "      <td>Alexandre Makunga</td>\n",
       "      <td>...</td>\n",
       "      <td>108</td>\n",
       "      <td>FB-386-YKluc talbot108</td>\n",
       "      <td>16102.0</td>\n",
       "      <td>FB-386-YK</td>\n",
       "      <td>237.0</td>\n",
       "      <td>34.4</td>\n",
       "      <td>34.4</td>\n",
       "      <td>86.0</td>\n",
       "      <td>0.145148</td>\n",
       "      <td>SAEMES/SAE-EDM | 21 Rue de l'École de Médecine</td>\n",
       "    </tr>\n",
       "    <tr>\n",
       "      <th>3</th>\n",
       "      <td>10</td>\n",
       "      <td>FB-386-YK</td>\n",
       "      <td>ZOE</td>\n",
       "      <td>2022-04-24 19:18:29</td>\n",
       "      <td>2022-04-25 17:40:24</td>\n",
       "      <td>14.0</td>\n",
       "      <td>100.0</td>\n",
       "      <td>40ter Rue Olivier Métra, 75020 Paris, France</td>\n",
       "      <td>Daniel Da Silva Meneses Campos</td>\n",
       "      <td>luc talbot</td>\n",
       "      <td>...</td>\n",
       "      <td>114</td>\n",
       "      <td>FB-386-YKDaniel Da Silva Meneses Campos114</td>\n",
       "      <td>16339.0</td>\n",
       "      <td>FB-386-YK</td>\n",
       "      <td>240.0</td>\n",
       "      <td>34.4</td>\n",
       "      <td>34.4</td>\n",
       "      <td>86.0</td>\n",
       "      <td>0.143333</td>\n",
       "      <td>BMP - Paripark - Olivier Metra - Paris | 35-49...</td>\n",
       "    </tr>\n",
       "    <tr>\n",
       "      <th>4</th>\n",
       "      <td>17</td>\n",
       "      <td>FB-386-YK</td>\n",
       "      <td>ZOE</td>\n",
       "      <td>2022-05-09 16:52:00</td>\n",
       "      <td>2022-05-16 12:18:00</td>\n",
       "      <td>16.0</td>\n",
       "      <td>99.0</td>\n",
       "      <td>79 Pl. Saint-Jacques, 75014 Paris, France</td>\n",
       "      <td>Zity Paris 1</td>\n",
       "      <td>Client</td>\n",
       "      <td>...</td>\n",
       "      <td>129</td>\n",
       "      <td>FB-386-YKZity Paris 1129</td>\n",
       "      <td>16579.0</td>\n",
       "      <td>FB-386-YK</td>\n",
       "      <td>205.0</td>\n",
       "      <td>33.2</td>\n",
       "      <td>33.6</td>\n",
       "      <td>84.0</td>\n",
       "      <td>0.163902</td>\n",
       "      <td>NO MATCH</td>\n",
       "    </tr>\n",
       "  </tbody>\n",
       "</table>\n",
       "<p>5 rows × 24 columns</p>\n",
       "</div>"
      ],
      "text/plain": [
       "   Unnamed: 0 plate_number model          start_date            end_date  \\\n",
       "0           1    FB-386-YK   ZOE 2022-03-30 11:30:13 2022-03-30 13:18:19   \n",
       "1           7    FB-386-YK   ZOE 2022-04-11 20:19:00 2022-04-13 19:55:24   \n",
       "2           9    FB-386-YK   ZOE 2022-04-18 16:39:24 2022-04-19 19:16:26   \n",
       "3          10    FB-386-YK   ZOE 2022-04-24 19:18:29 2022-04-25 17:40:24   \n",
       "4          17    FB-386-YK   ZOE 2022-05-09 16:52:00 2022-05-16 12:18:00   \n",
       "\n",
       "   start_battery  end_battery  \\\n",
       "0            9.0         85.0   \n",
       "1           15.0        100.0   \n",
       "2           14.0        100.0   \n",
       "3           14.0        100.0   \n",
       "4           16.0         99.0   \n",
       "\n",
       "                                              adress  \\\n",
       "0  22 Rue Yves Kermen, 92100 Boulogne-Billancourt...   \n",
       "1       26 Bd des Frères Voisin, 75015 Paris, France   \n",
       "2  12 Rue de lÉcole de Médecine, 75006 Paris, France   \n",
       "3       40ter Rue Olivier Métra, 75020 Paris, France   \n",
       "4          79 Pl. Saint-Jacques, 75014 Paris, France   \n",
       "\n",
       "                           driver        next_driver  ...  day  \\\n",
       "0                  Van Huy NGUYEN     Van Huy NGUYEN  ...   89   \n",
       "1                   Madil Berkani      Madil Berkani  ...  101   \n",
       "2                      luc talbot  Alexandre Makunga  ...  108   \n",
       "3  Daniel Da Silva Meneses Campos         luc talbot  ...  114   \n",
       "4                    Zity Paris 1             Client  ...  129   \n",
       "\n",
       "                                   created_id  last_mileage last_plate  \\\n",
       "0                   FB-386-YKVan Huy NGUYEN89           NaN        NaN   \n",
       "1                          FB-386-YKClient101       15939.0  FB-386-YK   \n",
       "2                      FB-386-YKluc talbot108       16102.0  FB-386-YK   \n",
       "3  FB-386-YKDaniel Da Silva Meneses Campos114       16339.0  FB-386-YK   \n",
       "4                    FB-386-YKZity Paris 1129       16579.0  FB-386-YK   \n",
       "\n",
       "   distance   kWh  kWh_used battery_used  consumption  \\\n",
       "0       0.0  30.4       NaN          NaN          NaN   \n",
       "1     163.0  34.0      28.0         70.0     0.171779   \n",
       "2     237.0  34.4      34.4         86.0     0.145148   \n",
       "3     240.0  34.4      34.4         86.0     0.143333   \n",
       "4     205.0  33.2      33.6         84.0     0.163902   \n",
       "\n",
       "                                                site  \n",
       "0  BMP - Parking AVE - 17e | 7 Rue Christine de P...  \n",
       "1      Freshmile/SUERDA | 26 Allée des Frères Voisin  \n",
       "2     SAEMES/SAE-EDM | 21 Rue de l'École de Médecine  \n",
       "3  BMP - Paripark - Olivier Metra - Paris | 35-49...  \n",
       "4                                           NO MATCH  \n",
       "\n",
       "[5 rows x 24 columns]"
      ]
     },
     "execution_count": 45,
     "metadata": {},
     "output_type": "execute_result"
    }
   ],
   "source": [
    "charging_session.head()"
   ]
  },
  {
   "cell_type": "code",
   "execution_count": 46,
   "id": "426bbd80",
   "metadata": {},
   "outputs": [
    {
     "data": {
      "text/html": [
       "<div>\n",
       "<style scoped>\n",
       "    .dataframe tbody tr th:only-of-type {\n",
       "        vertical-align: middle;\n",
       "    }\n",
       "\n",
       "    .dataframe tbody tr th {\n",
       "        vertical-align: top;\n",
       "    }\n",
       "\n",
       "    .dataframe thead th {\n",
       "        text-align: right;\n",
       "    }\n",
       "</style>\n",
       "<table border=\"1\" class=\"dataframe\">\n",
       "  <thead>\n",
       "    <tr style=\"text-align: right;\">\n",
       "      <th>21</th>\n",
       "      <th>NaN</th>\n",
       "      <th>N°</th>\n",
       "      <th>Date</th>\n",
       "      <th>RFID tag ID</th>\n",
       "      <th>Site</th>\n",
       "      <th>Energie (kWh)</th>\n",
       "      <th>Durée (min)</th>\n",
       "      <th>Prix Unitaire HT</th>\n",
       "      <th>Unité</th>\n",
       "      <th>Prix Total HT</th>\n",
       "      <th>Type</th>\n",
       "      <th>Borne</th>\n",
       "    </tr>\n",
       "  </thead>\n",
       "  <tbody>\n",
       "    <tr>\n",
       "      <th>0</th>\n",
       "      <td>NaN</td>\n",
       "      <td>1</td>\n",
       "      <td>2022-05-22 18:34:07</td>\n",
       "      <td>0481BAF2116880</td>\n",
       "      <td>BMP - Campanile - Berges du Rhône - Lyon | 4-6...</td>\n",
       "      <td>24.80</td>\n",
       "      <td>96.60</td>\n",
       "      <td>€0.34</td>\n",
       "      <td>kWh</td>\n",
       "      <td>€8.43</td>\n",
       "      <td>DC</td>\n",
       "      <td>BER#3 - BMP - IES S/N000006</td>\n",
       "    </tr>\n",
       "    <tr>\n",
       "      <th>1</th>\n",
       "      <td>NaN</td>\n",
       "      <td>2</td>\n",
       "      <td>2022-05-16 12:26:43</td>\n",
       "      <td>0481BAF2116880</td>\n",
       "      <td>BMP - Campanile - Berges du Rhône - Lyon | 4-6...</td>\n",
       "      <td>20.90</td>\n",
       "      <td>74.08</td>\n",
       "      <td>€0.34</td>\n",
       "      <td>kWh</td>\n",
       "      <td>€7.11</td>\n",
       "      <td>DC</td>\n",
       "      <td>BER#2 - BMP - IES S/N000004</td>\n",
       "    </tr>\n",
       "    <tr>\n",
       "      <th>2</th>\n",
       "      <td>NaN</td>\n",
       "      <td>3</td>\n",
       "      <td>2022-05-16 15:58:29</td>\n",
       "      <td>0481BAF2116880</td>\n",
       "      <td>BMP - Campanile - Berges du Rhône - Lyon | 4-6...</td>\n",
       "      <td>24.50</td>\n",
       "      <td>96.95</td>\n",
       "      <td>€0.34</td>\n",
       "      <td>kWh</td>\n",
       "      <td>€8.33</td>\n",
       "      <td>DC</td>\n",
       "      <td>BER#2 - BMP - IES S/N000004</td>\n",
       "    </tr>\n",
       "    <tr>\n",
       "      <th>3</th>\n",
       "      <td>NaN</td>\n",
       "      <td>4</td>\n",
       "      <td>2022-05-17 12:34:05</td>\n",
       "      <td>0481BAF2116880</td>\n",
       "      <td>BMP - Campanile - Berges du Rhône - Lyon | 4-6...</td>\n",
       "      <td>24.20</td>\n",
       "      <td>95.32</td>\n",
       "      <td>€0.34</td>\n",
       "      <td>kWh</td>\n",
       "      <td>€8.23</td>\n",
       "      <td>DC</td>\n",
       "      <td>BER#2 - BMP - IES S/N000004</td>\n",
       "    </tr>\n",
       "    <tr>\n",
       "      <th>4</th>\n",
       "      <td>NaN</td>\n",
       "      <td>5</td>\n",
       "      <td>2022-05-17 15:58:30</td>\n",
       "      <td>0481BAF2116880</td>\n",
       "      <td>BMP - Campanile - Berges du Rhône - Lyon | 4-6...</td>\n",
       "      <td>25.40</td>\n",
       "      <td>94.05</td>\n",
       "      <td>€0.34</td>\n",
       "      <td>kWh</td>\n",
       "      <td>€8.64</td>\n",
       "      <td>DC</td>\n",
       "      <td>BER#2 - BMP - IES S/N000004</td>\n",
       "    </tr>\n",
       "  </tbody>\n",
       "</table>\n",
       "</div>"
      ],
      "text/plain": [
       "21  NaN N°                 Date     RFID tag ID  \\\n",
       "0   NaN   1 2022-05-22 18:34:07  0481BAF2116880   \n",
       "1   NaN   2 2022-05-16 12:26:43  0481BAF2116880   \n",
       "2   NaN   3 2022-05-16 15:58:29  0481BAF2116880   \n",
       "3   NaN   4 2022-05-17 12:34:05  0481BAF2116880   \n",
       "4   NaN   5 2022-05-17 15:58:30  0481BAF2116880   \n",
       "\n",
       "21                                               Site Energie (kWh)  \\\n",
       "0   BMP - Campanile - Berges du Rhône - Lyon | 4-6...         24.80   \n",
       "1   BMP - Campanile - Berges du Rhône - Lyon | 4-6...         20.90   \n",
       "2   BMP - Campanile - Berges du Rhône - Lyon | 4-6...         24.50   \n",
       "3   BMP - Campanile - Berges du Rhône - Lyon | 4-6...         24.20   \n",
       "4   BMP - Campanile - Berges du Rhône - Lyon | 4-6...         25.40   \n",
       "\n",
       "21 Durée (min) Prix Unitaire HT Unité Prix Total HT Type  \\\n",
       "0        96.60            €0.34   kWh         €8.43   DC   \n",
       "1        74.08            €0.34   kWh         €7.11   DC   \n",
       "2        96.95            €0.34   kWh         €8.33   DC   \n",
       "3        95.32            €0.34   kWh         €8.23   DC   \n",
       "4        94.05            €0.34   kWh         €8.64   DC   \n",
       "\n",
       "21                        Borne  \n",
       "0   BER#3 - BMP - IES S/N000006  \n",
       "1   BER#2 - BMP - IES S/N000004  \n",
       "2   BER#2 - BMP - IES S/N000004  \n",
       "3   BER#2 - BMP - IES S/N000004  \n",
       "4   BER#2 - BMP - IES S/N000004  "
      ]
     },
     "execution_count": 46,
     "metadata": {},
     "output_type": "execute_result"
    }
   ],
   "source": [
    "bump.head()"
   ]
  },
  {
   "cell_type": "code",
   "execution_count": 47,
   "id": "500f77b0",
   "metadata": {},
   "outputs": [
    {
     "ename": "ValueError",
     "evalue": "cannot set using a multi-index selection indexer with a different length than the value",
     "output_type": "error",
     "traceback": [
      "\u001b[0;31m---------------------------------------------------------------------------\u001b[0m",
      "\u001b[0;31mValueError\u001b[0m                                Traceback (most recent call last)",
      "\u001b[0;32m<ipython-input-47-deffaae103ea>\u001b[0m in \u001b[0;36m<module>\u001b[0;34m()\u001b[0m\n\u001b[1;32m      8\u001b[0m             \u001b[0mcharging_position\u001b[0m\u001b[0;34m.\u001b[0m\u001b[0mappend\u001b[0m\u001b[0;34m(\u001b[0m\u001b[0mj\u001b[0m\u001b[0;34m)\u001b[0m\u001b[0;34m\u001b[0m\u001b[0;34m\u001b[0m\u001b[0m\n\u001b[1;32m      9\u001b[0m     \u001b[0mbump\u001b[0m\u001b[0;34m.\u001b[0m\u001b[0mloc\u001b[0m\u001b[0;34m[\u001b[0m\u001b[0mi\u001b[0m\u001b[0;34m,\u001b[0m \u001b[0;34m'number_of_match'\u001b[0m\u001b[0;34m]\u001b[0m \u001b[0;34m=\u001b[0m \u001b[0mlen\u001b[0m\u001b[0;34m(\u001b[0m\u001b[0mcharging_position\u001b[0m\u001b[0;34m)\u001b[0m\u001b[0;34m\u001b[0m\u001b[0;34m\u001b[0m\u001b[0m\n\u001b[0;32m---> 10\u001b[0;31m     \u001b[0mbump\u001b[0m\u001b[0;34m.\u001b[0m\u001b[0mloc\u001b[0m\u001b[0;34m[\u001b[0m\u001b[0mi\u001b[0m\u001b[0;34m,\u001b[0m \u001b[0;34m'list_of_match'\u001b[0m\u001b[0;34m]\u001b[0m \u001b[0;34m=\u001b[0m \u001b[0mcharging_position\u001b[0m\u001b[0;34m\u001b[0m\u001b[0;34m\u001b[0m\u001b[0m\n\u001b[0m",
      "\u001b[0;32m/Users/paulmeddeb/opt/anaconda3/envs/fake_news/lib/python3.6/site-packages/pandas/core/indexing.py\u001b[0m in \u001b[0;36m__setitem__\u001b[0;34m(self, key, value)\u001b[0m\n\u001b[1;32m    668\u001b[0m \u001b[0;34m\u001b[0m\u001b[0m\n\u001b[1;32m    669\u001b[0m         \u001b[0miloc\u001b[0m \u001b[0;34m=\u001b[0m \u001b[0mself\u001b[0m \u001b[0;32mif\u001b[0m \u001b[0mself\u001b[0m\u001b[0;34m.\u001b[0m\u001b[0mname\u001b[0m \u001b[0;34m==\u001b[0m \u001b[0;34m\"iloc\"\u001b[0m \u001b[0;32melse\u001b[0m \u001b[0mself\u001b[0m\u001b[0;34m.\u001b[0m\u001b[0mobj\u001b[0m\u001b[0;34m.\u001b[0m\u001b[0miloc\u001b[0m\u001b[0;34m\u001b[0m\u001b[0;34m\u001b[0m\u001b[0m\n\u001b[0;32m--> 670\u001b[0;31m         \u001b[0miloc\u001b[0m\u001b[0;34m.\u001b[0m\u001b[0m_setitem_with_indexer\u001b[0m\u001b[0;34m(\u001b[0m\u001b[0mindexer\u001b[0m\u001b[0;34m,\u001b[0m \u001b[0mvalue\u001b[0m\u001b[0;34m)\u001b[0m\u001b[0;34m\u001b[0m\u001b[0;34m\u001b[0m\u001b[0m\n\u001b[0m\u001b[1;32m    671\u001b[0m \u001b[0;34m\u001b[0m\u001b[0m\n\u001b[1;32m    672\u001b[0m     \u001b[0;32mdef\u001b[0m \u001b[0m_validate_key\u001b[0m\u001b[0;34m(\u001b[0m\u001b[0mself\u001b[0m\u001b[0;34m,\u001b[0m \u001b[0mkey\u001b[0m\u001b[0;34m,\u001b[0m \u001b[0maxis\u001b[0m\u001b[0;34m:\u001b[0m \u001b[0mint\u001b[0m\u001b[0;34m)\u001b[0m\u001b[0;34m:\u001b[0m\u001b[0;34m\u001b[0m\u001b[0;34m\u001b[0m\u001b[0m\n",
      "\u001b[0;32m/Users/paulmeddeb/opt/anaconda3/envs/fake_news/lib/python3.6/site-packages/pandas/core/indexing.py\u001b[0m in \u001b[0;36m_setitem_with_indexer\u001b[0;34m(self, indexer, value)\u001b[0m\n\u001b[1;32m   1665\u001b[0m                     \u001b[0;31m# Exclude zero-len for e.g. boolean masking that is all-false\u001b[0m\u001b[0;34m\u001b[0m\u001b[0;34m\u001b[0m\u001b[0;34m\u001b[0m\u001b[0m\n\u001b[1;32m   1666\u001b[0m                     raise ValueError(\n\u001b[0;32m-> 1667\u001b[0;31m                         \u001b[0;34m\"cannot set using a multi-index \"\u001b[0m\u001b[0;34m\u001b[0m\u001b[0;34m\u001b[0m\u001b[0m\n\u001b[0m\u001b[1;32m   1668\u001b[0m                         \u001b[0;34m\"selection indexer with a different \"\u001b[0m\u001b[0;34m\u001b[0m\u001b[0;34m\u001b[0m\u001b[0m\n\u001b[1;32m   1669\u001b[0m                         \u001b[0;34m\"length than the value\"\u001b[0m\u001b[0;34m\u001b[0m\u001b[0;34m\u001b[0m\u001b[0m\n",
      "\u001b[0;31mValueError\u001b[0m: cannot set using a multi-index selection indexer with a different length than the value"
     ]
    }
   ],
   "source": [
    "count = 0\n",
    "bump['number_of_match'] = 0\n",
    "bump['list_of_match'] = None\n",
    "for i in range(0,len(bump)):\n",
    "    charging_position = []\n",
    "    for j in range(0,len(charging_session)):\n",
    "        if bump.loc[i,'Date'] >= charging_session.loc[j,'start_date'] and bump.loc[i,'Date'] <= charging_session.loc[j,'end_date'] and float(bump.loc[i,'Energie (kWh)']) >= float(charging_session.loc[j,'kWh'])-4 and float(bump.loc[i,'Energie (kWh)']) <= float(charging_session.loc[j,'kWh'])+4 and charging_session.loc[j,'site'] in bump.loc[i,'Site']:\n",
    "            charging_position.append(j)\n",
    "    bump.loc[i, 'number_of_match'] = len(charging_position)\n",
    "    bump.loc[i, 'list_of_match'] = charging_position    "
   ]
  },
  {
   "cell_type": "code",
   "execution_count": 55,
   "id": "9a18bb0a",
   "metadata": {},
   "outputs": [
    {
     "data": {
      "text/plain": [
       "Unnamed: 0                                                        NaN\n",
       "N°                                                              298.0\n",
       "Date                                              2022-04-23 08:53:39\n",
       "RFID tag ID                                                  B4F2C8E3\n",
       "Site                BMP - Paripark - Jardin des Plantes - Paris | ...\n",
       "Energie (kWh)                                                    24.1\n",
       "Durée (min)                                                     94.35\n",
       "Prix Unitaire HT                                                €0.32\n",
       "Unité                                                             kWh\n",
       "Prix Total HT                                                   €7.71\n",
       "Type                                                               DC\n",
       "Day of year                                                     113.0\n",
       "Hour                                                              8.0\n",
       "Name: 297, dtype: object"
      ]
     },
     "execution_count": 55,
     "metadata": {},
     "output_type": "execute_result"
    }
   ],
   "source": [
    "bump.iloc[297,:]"
   ]
  },
  {
   "cell_type": "code",
   "execution_count": 56,
   "id": "41ff23b6",
   "metadata": {},
   "outputs": [
    {
     "data": {
      "text/plain": [
       "plate_number                                                         FB-070-YK\n",
       "model                                                                      ZOE\n",
       "start_date                                                 2022-04-23 07:46:21\n",
       "end_date                                                   2022-04-23 10:54:09\n",
       "start_battery                                                              0.0\n",
       "end_battery                                                              100.0\n",
       "adress                                     13 Rue Censier, 75005 Paris, France\n",
       "driver                                                            Sseire Sylla\n",
       "day                                                                      113.0\n",
       "created_id                                           FB-070-YKSseire Sylla 113\n",
       "distance                                                                 255.0\n",
       "kWh_used                                                                  38.0\n",
       "battery_used                                                              95.0\n",
       "consumption                                                            0.14902\n",
       "Unnamed: 14                                                                NaN\n",
       "start_battery.1                                                           16.0\n",
       "end_battery.1                                                            100.0\n",
       "delta                                                                     84.0\n",
       "kWh                                                                      22.68\n",
       "created_id_bis                                                    FB-070-YK113\n",
       "kWh.1                                                                    22.68\n",
       "delta.1                                                                  100.0\n",
       "delta_battery                                                            100.0\n",
       "battery_corrected                                                          100\n",
       "if there is a match of id                                                  NaN\n",
       "model.1                                                                    ZOE\n",
       "site                         BMP - Paripark - Jardin des Plantes - Paris | ...\n",
       "start_hour                                                                 7.0\n",
       "end_hour                                                                  10.0\n",
       "Name: 1215, dtype: object"
      ]
     },
     "execution_count": 56,
     "metadata": {},
     "output_type": "execute_result"
    }
   ],
   "source": [
    "charging.iloc[1215,:]"
   ]
  },
  {
   "cell_type": "code",
   "execution_count": 57,
   "id": "e5b5466d",
   "metadata": {},
   "outputs": [
    {
     "data": {
      "text/plain": [
       "True"
      ]
     },
     "execution_count": 57,
     "metadata": {},
     "output_type": "execute_result"
    }
   ],
   "source": [
    "charging.loc[1215,'site'] in bump.loc[297,'Site']"
   ]
  },
  {
   "cell_type": "code",
   "execution_count": 60,
   "id": "bbc590a2",
   "metadata": {},
   "outputs": [
    {
     "data": {
      "text/plain": [
       "True"
      ]
     },
     "execution_count": 60,
     "metadata": {},
     "output_type": "execute_result"
    }
   ],
   "source": [
    "bump.loc[297,'Date'] >= charging.loc[1215,'start_date'] and bump.loc[297,'Date'] <= charging.loc[1215,'end_date']"
   ]
  },
  {
   "cell_type": "code",
   "execution_count": 63,
   "id": "5ae7c1ae",
   "metadata": {},
   "outputs": [
    {
     "data": {
      "text/plain": [
       "True"
      ]
     },
     "execution_count": 63,
     "metadata": {},
     "output_type": "execute_result"
    }
   ],
   "source": [
    "float(bump.loc[297,'Energie (kWh)']) >= float(charging.loc[1215,'kWh'])-4 and float(bump.loc[297,'Energie (kWh)']) <= float(charging.loc[1215,'kWh'])+4"
   ]
  },
  {
   "cell_type": "code",
   "execution_count": 64,
   "id": "20b3c5b4",
   "metadata": {},
   "outputs": [
    {
     "name": "stdout",
     "output_type": "stream",
     "text": [
      "1\n"
     ]
    }
   ],
   "source": [
    "if charging.loc[1215,'site'] in bump.loc[297,'Site'] and bump.loc[297,'Date'] >= charging.loc[1215,'start_date'] and bump.loc[297,'Date'] <= charging.loc[1215,'end_date'] and float(bump.loc[297,'Energie (kWh)']) >= float(charging.loc[1215,'kWh'])-4 and float(bump.loc[297,'Energie (kWh)']) <= float(charging.loc[1215,'kWh'])+4:\n",
    "    print(1)"
   ]
  },
  {
   "cell_type": "code",
   "execution_count": null,
   "id": "a62d9a0b",
   "metadata": {},
   "outputs": [],
   "source": []
  }
 ],
 "metadata": {
  "kernelspec": {
   "display_name": "Python 3.6.13 ('fake_news')",
   "language": "python",
   "name": "python3"
  },
  "language_info": {
   "codemirror_mode": {
    "name": "ipython",
    "version": 3
   },
   "file_extension": ".py",
   "mimetype": "text/x-python",
   "name": "python",
   "nbconvert_exporter": "python",
   "pygments_lexer": "ipython3",
   "version": "3.6.13"
  },
  "vscode": {
   "interpreter": {
    "hash": "612614de5fa7a9a111088c0068d976bb5aa6c7257d7ec869e4d078eee331ba92"
   }
  }
 },
 "nbformat": 4,
 "nbformat_minor": 5
}
