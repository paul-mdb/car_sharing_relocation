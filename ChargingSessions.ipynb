{
 "cells": [
  {
   "cell_type": "code",
   "execution_count": 20,
   "id": "25fe226a",
   "metadata": {},
   "outputs": [],
   "source": [
    "import pandas as pd\n",
    "import numpy as np\n",
    "import warnings\n",
    "import datetime\n",
    "import geopy.distance\n",
    "\n",
    "warnings.filterwarnings(\"ignore\")"
   ]
  },
  {
   "cell_type": "code",
   "execution_count": 21,
   "id": "dfc98e61",
   "metadata": {},
   "outputs": [],
   "source": [
    "df = pd.read_csv(\"bookinghistory.csv\", low_memory=False)"
   ]
  },
  {
   "cell_type": "code",
   "execution_count": 22,
   "id": "8ae0ef8f",
   "metadata": {},
   "outputs": [],
   "source": [
    "df.dropna(subset=['battery_level_at_start','battery_level_at_end'], inplace=True)\n",
    "df.reset_index(drop=True, inplace=True)"
   ]
  },
  {
   "cell_type": "code",
   "execution_count": 23,
   "id": "dba8d938",
   "metadata": {},
   "outputs": [],
   "source": [
    "df.drop(['id', 'bookind_id', 'driver_login', 'start_location', 'trip_fare', 'car_group', 'start_zone_name', 'end_zone_name', 'booking_end', 'cp__end', 'cp__start', 'customer_id', 'ignore_relocation_bonus', 'associated_pfm', 'not_invoiced', 'associated_pfr', 'already_invoiced', 'last_update', 'rating', 'car_histoy_match', 'rating_description', 'notif_booking_finished_no_pfr', 'notif_booking_ongoing_no_reservation', 'pk_driver', 'reason_for_no_pfr', 'bonus_malus', 'account', 'car_history_match', 'otoqi_reference', 'city'], axis=1, inplace = True)\n"
   ]
  },
  {
   "cell_type": "markdown",
   "id": "21ab2576",
   "metadata": {},
   "source": [
    "### Sort dataframe by date & create new columns & correct columns"
   ]
  },
  {
   "cell_type": "code",
   "execution_count": 24,
   "id": "eabbf631",
   "metadata": {},
   "outputs": [],
   "source": [
    "df['start_date_time']= pd.to_datetime(df['booking_start_date__date'].astype(str), infer_datetime_format=True)\n",
    "df['end_date_time']= pd.to_datetime(df['booking_end_date__date'].astype(str), infer_datetime_format=True)"
   ]
  },
  {
   "cell_type": "code",
   "execution_count": 25,
   "id": "621e0b7a",
   "metadata": {},
   "outputs": [],
   "source": [
    "df = df.sort_values(by=\"start_date_time\")"
   ]
  },
  {
   "cell_type": "code",
   "execution_count": 26,
   "id": "8fbe8a88",
   "metadata": {},
   "outputs": [],
   "source": [
    "df = df.drop_duplicates(subset=['booking_id'], keep='first')"
   ]
  },
  {
   "cell_type": "code",
   "execution_count": 27,
   "id": "f55e8e61",
   "metadata": {},
   "outputs": [],
   "source": [
    "df[\"charging\"] = (df['battery_level_at_end']-df['battery_level_at_start']>1)"
   ]
  },
  {
   "cell_type": "code",
   "execution_count": 28,
   "id": "be09effb",
   "metadata": {},
   "outputs": [],
   "source": [
    "df['mileage_end'] = df[[\"mileage_end\", \"mileage_start\"]].max(axis=1)"
   ]
  },
  {
   "cell_type": "code",
   "execution_count": 29,
   "id": "e7655620",
   "metadata": {},
   "outputs": [],
   "source": [
    "df['battery_level_at_end'] = pd.to_numeric(df['battery_level_at_end']).astype(int)\n",
    "df['battery_level_at_start'] = pd.to_numeric(df['battery_level_at_start']).astype(int)"
   ]
  },
  {
   "cell_type": "code",
   "execution_count": 30,
   "id": "dc6c7f72",
   "metadata": {},
   "outputs": [],
   "source": [
    "df['delta'] = df['battery_level_at_end']-df['battery_level_at_start']"
   ]
  },
  {
   "cell_type": "code",
   "execution_count": 31,
   "id": "1837c653",
   "metadata": {},
   "outputs": [],
   "source": [
    "df['month'] = df['start_date_time'].dt.month\n",
    "month_dict = {2:\"Février\", 3: \"Mars\", 4:\"Avril\", 5: \"Mai\", 6: \"Juin\"}\n",
    "df['month'] = df['month'].map(month_dict)"
   ]
  },
  {
   "cell_type": "code",
   "execution_count": 32,
   "id": "1389599d",
   "metadata": {},
   "outputs": [],
   "source": [
    "df['car_model'] = df['car_model'].replace({'Zoe': 'ZOE'})"
   ]
  },
  {
   "cell_type": "markdown",
   "id": "d19ac3b8",
   "metadata": {},
   "source": [
    "### Charging Sessions"
   ]
  },
  {
   "cell_type": "code",
   "execution_count": 33,
   "id": "0abdfb11",
   "metadata": {},
   "outputs": [],
   "source": [
    "def getSessions(dataframe):\n",
    "    \"\"\"\n",
    "        Returns charging sessions for input dataframe with only one plate number\n",
    "    \"\"\"\n",
    "    dataframe.reset_index(drop=True, inplace=True)\n",
    "    plate = dataframe.loc[0, 'plate_number']\n",
    "    model = dataframe.loc[0, 'car_model']\n",
    "    dataframe['last_end_battery']=dataframe['battery_level_at_end'].shift(1)\n",
    "    dataframe['last_end_date']=dataframe['end_date_time'].shift(1)\n",
    "    dataframe['delta_hours'] = (dataframe['start_date_time']-dataframe['last_end_date']).astype('timedelta64[h]')\n",
    "    dataframe['duration'] = (dataframe['end_date_time']-dataframe['start_date_time']).astype('timedelta64[h]')\n",
    "    dataframe['battery_drop'] = dataframe['last_end_battery']-dataframe['battery_level_at_start']\n",
    "    for index in range(len(dataframe)):\n",
    "        if dataframe.loc[index, 'battery_drop']/(dataframe.loc[index, 'delta_hours']+1) > 5:\n",
    "            dataframe.loc[index, 'battery_level_at_start'] = dataframe.loc[index, 'last_end_battery']\n",
    "            dataframe['last_end_battery']=dataframe['battery_level_at_end'].shift(1)\n",
    "            dataframe['last_end_date']=dataframe['end_date_time'].shift(1)\n",
    "            dataframe['delta_hours'] = (dataframe['start_date_time']-dataframe['last_end_date']).astype('timedelta64[h]')\n",
    "            dataframe['duration'] = (dataframe['end_date_time']-dataframe['start_date_time']).astype('timedelta64[h]')\n",
    "            dataframe['battery_drop'] = dataframe['last_end_battery']-dataframe['battery_level_at_start']\n",
    "            dataframe['delta'] = dataframe['battery_level_at_end']-dataframe['battery_level_at_start']\n",
    "        if (dataframe.loc[index, 'battery_level_at_start'] - dataframe.loc[index, 'battery_level_at_end'])/(dataframe.loc[index, 'duration']+1)>30:\n",
    "            dataframe.loc[index, 'battery_level_at_end'] = dataframe.loc[index, 'battery_level_at_start']\n",
    "            dataframe['last_end_battery']=dataframe['battery_level_at_end'].shift(1)\n",
    "            dataframe['last_end_date']=dataframe['end_date_time'].shift(1)\n",
    "            dataframe['delta_hours'] = (dataframe['start_date_time']-dataframe['last_end_date']).astype('timedelta64[h]')\n",
    "            dataframe['duration'] = (dataframe['end_date_time']-dataframe['start_date_time']).astype('timedelta64[h]')\n",
    "            dataframe['battery_drop'] = dataframe['last_end_battery']-dataframe['battery_level_at_start']\n",
    "            dataframe['delta'] = dataframe['battery_level_at_end']-dataframe['battery_level_at_start']\n",
    "\n",
    "    \n",
    "    dataframe.reset_index(drop=True, inplace=True)\n",
    "    dataframe['last_end_battery']=dataframe['battery_level_at_end'].shift(1)\n",
    "    dataframe['was_charging']=(dataframe['battery_level_at_start']-dataframe['last_end_battery']>0)\n",
    "    dataframe[\"charging\"] = (dataframe['battery_level_at_end']-dataframe['battery_level_at_start']>0)\n",
    "    charging_sessions = []\n",
    "    index = 0\n",
    "    current_start = 0\n",
    "    start = \"\"\n",
    "    start_battery = 0\n",
    "    current_last = 0\n",
    "    open_booking = False\n",
    "    while index < len(dataframe) :\n",
    "        if open_booking: # car was charging\n",
    "            if not dataframe.loc[index, 'charging']: # car is not charging anymore --> close session\n",
    "                open_booking = False\n",
    "                if dataframe.loc[index, 'was_charging']:\n",
    "                    charging_sessions.append((plate, model, dataframe.loc[current_start, start+'date_time'], dataframe.loc[index, 'start_date_time'], start_battery, dataframe.loc[index, 'battery_level_at_start'], dataframe.loc[current_start, 'end_adress'], dataframe.loc[current_start, 'end_location'], dataframe.loc[current_start, 'driver'], dataframe.loc[current_start+1, 'driver'], dataframe.loc[current_start, 'mileage_end'], dataframe.loc[current_start, 'booking_id']))\n",
    "                else :\n",
    "                    charging_sessions.append((plate, model, dataframe.loc[current_start, start+'date_time'], dataframe.loc[index-1, 'end_date_time'], start_battery, dataframe.loc[current_last, 'battery_level_at_end'], dataframe.loc[current_start, 'end_adress'], dataframe.loc[current_start, 'end_location'], dataframe.loc[current_start, 'driver'], dataframe.loc[current_start+1, 'driver'], dataframe.loc[current_start, 'mileage_end'], dataframe.loc[current_start, 'booking_id']))\n",
    "                \n",
    "            else : # car is still charging\n",
    "                current_last = index\n",
    "        else : # car wasn't charging\n",
    "            if dataframe.loc[index, 'was_charging']: # the car was charged since last booking\n",
    "                open_booking = True\n",
    "                current_start = index-1\n",
    "                start = 'end_'\n",
    "                current_last = index\n",
    "                start_battery = dataframe.loc[current_start, 'battery_level_at_end']\n",
    "                if not dataframe.loc[index, 'charging']: # car is not charging anymore --> close session\n",
    "                    open_booking = False\n",
    "                    charging_sessions.append((plate, model, dataframe.loc[current_start, start+'date_time'], dataframe.loc[index, 'start_date_time'], start_battery, dataframe.loc[index, 'battery_level_at_start'], dataframe.loc[current_start, 'end_adress'], dataframe.loc[current_start, 'end_location'], dataframe.loc[current_start, 'driver'], dataframe.loc[current_start+1, 'driver'], dataframe.loc[current_start, 'mileage_end'], dataframe.loc[current_start, 'booking_id']))\n",
    "            else :\n",
    "                if dataframe.loc[index, 'charging']:\n",
    "                    open_booking = True\n",
    "                    current_start = index\n",
    "                    start = \"start_\"\n",
    "                    current_last = index\n",
    "                    start_battery = dataframe.loc[index, 'battery_level_at_start']\n",
    "                \n",
    "        index += 1\n",
    "    return charging_sessions"
   ]
  },
  {
   "cell_type": "code",
   "execution_count": 34,
   "id": "042c5960",
   "metadata": {},
   "outputs": [],
   "source": [
    "plates = df.plate_number.unique()\n",
    "plate = plates[0]"
   ]
  },
  {
   "cell_type": "code",
   "execution_count": 35,
   "id": "7690e7c7",
   "metadata": {},
   "outputs": [],
   "source": [
    "sessions = []\n",
    "for plate in plates :\n",
    "    dataframe = df[df['plate_number']==plate]\n",
    "    sessions += getSessions(dataframe)\n",
    "    \n",
    "sessions_df = pd.DataFrame(sessions, columns = ['plate_number', 'model', 'start_date', 'end_date', 'start_battery', 'end_battery', 'adress', 'location', 'driver', 'next_driver', 'mileage', 'booking_id'])"
   ]
  },
  {
   "cell_type": "markdown",
   "id": "66ce8e09",
   "metadata": {},
   "source": [
    "### Calculate columns"
   ]
  },
  {
   "cell_type": "code",
   "execution_count": 36,
   "id": "c4420670",
   "metadata": {},
   "outputs": [
    {
     "data": {
      "text/html": [
       "<div>\n",
       "<style scoped>\n",
       "    .dataframe tbody tr th:only-of-type {\n",
       "        vertical-align: middle;\n",
       "    }\n",
       "\n",
       "    .dataframe tbody tr th {\n",
       "        vertical-align: top;\n",
       "    }\n",
       "\n",
       "    .dataframe thead th {\n",
       "        text-align: right;\n",
       "    }\n",
       "</style>\n",
       "<table border=\"1\" class=\"dataframe\">\n",
       "  <thead>\n",
       "    <tr style=\"text-align: right;\">\n",
       "      <th></th>\n",
       "      <th>plate_number</th>\n",
       "      <th>model</th>\n",
       "      <th>start_date</th>\n",
       "      <th>end_date</th>\n",
       "      <th>start_battery</th>\n",
       "      <th>end_battery</th>\n",
       "      <th>adress</th>\n",
       "      <th>location</th>\n",
       "      <th>driver</th>\n",
       "      <th>next_driver</th>\n",
       "      <th>mileage</th>\n",
       "      <th>booking_id</th>\n",
       "    </tr>\n",
       "  </thead>\n",
       "  <tbody>\n",
       "    <tr>\n",
       "      <th>0</th>\n",
       "      <td>FB-386-YK</td>\n",
       "      <td>ZOE</td>\n",
       "      <td>2022-03-30 00:37:22</td>\n",
       "      <td>2022-03-30 11:05:04</td>\n",
       "      <td>12.0</td>\n",
       "      <td>13.0</td>\n",
       "      <td>Quai de Clichy, 92110 Clichy, France</td>\n",
       "      <td>48.90898514, 2.30129933</td>\n",
       "      <td>Client</td>\n",
       "      <td>Van Huy NGUYEN</td>\n",
       "      <td>15929.0</td>\n",
       "      <td>RZTY8949870</td>\n",
       "    </tr>\n",
       "    <tr>\n",
       "      <th>1</th>\n",
       "      <td>FB-386-YK</td>\n",
       "      <td>ZOE</td>\n",
       "      <td>2022-03-30 11:30:13</td>\n",
       "      <td>2022-03-30 13:18:19</td>\n",
       "      <td>9.0</td>\n",
       "      <td>85.0</td>\n",
       "      <td>15 Av. Charles de Gaulle, 92100 Boulogne-Billa...</td>\n",
       "      <td>48.85002136, 2.23768306</td>\n",
       "      <td>Van Huy NGUYEN</td>\n",
       "      <td>Van Huy NGUYEN</td>\n",
       "      <td>15939.0</td>\n",
       "      <td>RZTY8951370</td>\n",
       "    </tr>\n",
       "    <tr>\n",
       "      <th>2</th>\n",
       "      <td>FB-386-YK</td>\n",
       "      <td>ZOE</td>\n",
       "      <td>2022-04-04 23:47:56</td>\n",
       "      <td>2022-04-05 08:56:17</td>\n",
       "      <td>72.0</td>\n",
       "      <td>73.0</td>\n",
       "      <td>9 Rue Franquet, 75015 Paris, France</td>\n",
       "      <td>48.83307648, 2.30647016</td>\n",
       "      <td>Client</td>\n",
       "      <td>Client</td>\n",
       "      <td>15967.0</td>\n",
       "      <td>RZTY8981128</td>\n",
       "    </tr>\n",
       "    <tr>\n",
       "      <th>3</th>\n",
       "      <td>FB-386-YK</td>\n",
       "      <td>ZOE</td>\n",
       "      <td>2022-04-06 23:58:21</td>\n",
       "      <td>2022-04-07 12:18:00</td>\n",
       "      <td>49.0</td>\n",
       "      <td>50.0</td>\n",
       "      <td>4 Rue dOlivet, 75007 Paris, France</td>\n",
       "      <td>48.84959412, 2.31942487</td>\n",
       "      <td>Client</td>\n",
       "      <td>Client</td>\n",
       "      <td>16019.0</td>\n",
       "      <td>RZTY8990388</td>\n",
       "    </tr>\n",
       "    <tr>\n",
       "      <th>4</th>\n",
       "      <td>FB-386-YK</td>\n",
       "      <td>ZOE</td>\n",
       "      <td>2022-04-07 18:31:00</td>\n",
       "      <td>2022-04-08 15:39:00</td>\n",
       "      <td>49.0</td>\n",
       "      <td>50.0</td>\n",
       "      <td>4 Rue dOlivet, 75007 Paris, France</td>\n",
       "      <td>48.84970474, 2.31943798</td>\n",
       "      <td>Client</td>\n",
       "      <td>Client</td>\n",
       "      <td>16019.0</td>\n",
       "      <td>RZTY8994045</td>\n",
       "    </tr>\n",
       "  </tbody>\n",
       "</table>\n",
       "</div>"
      ],
      "text/plain": [
       "  plate_number model          start_date            end_date  start_battery  \\\n",
       "0    FB-386-YK   ZOE 2022-03-30 00:37:22 2022-03-30 11:05:04           12.0   \n",
       "1    FB-386-YK   ZOE 2022-03-30 11:30:13 2022-03-30 13:18:19            9.0   \n",
       "2    FB-386-YK   ZOE 2022-04-04 23:47:56 2022-04-05 08:56:17           72.0   \n",
       "3    FB-386-YK   ZOE 2022-04-06 23:58:21 2022-04-07 12:18:00           49.0   \n",
       "4    FB-386-YK   ZOE 2022-04-07 18:31:00 2022-04-08 15:39:00           49.0   \n",
       "\n",
       "   end_battery                                             adress  \\\n",
       "0         13.0               Quai de Clichy, 92110 Clichy, France   \n",
       "1         85.0  15 Av. Charles de Gaulle, 92100 Boulogne-Billa...   \n",
       "2         73.0                9 Rue Franquet, 75015 Paris, France   \n",
       "3         50.0                 4 Rue dOlivet, 75007 Paris, France   \n",
       "4         50.0                 4 Rue dOlivet, 75007 Paris, France   \n",
       "\n",
       "                  location          driver     next_driver  mileage  \\\n",
       "0  48.90898514, 2.30129933          Client  Van Huy NGUYEN  15929.0   \n",
       "1  48.85002136, 2.23768306  Van Huy NGUYEN  Van Huy NGUYEN  15939.0   \n",
       "2  48.83307648, 2.30647016          Client          Client  15967.0   \n",
       "3  48.84959412, 2.31942487          Client          Client  16019.0   \n",
       "4  48.84970474, 2.31943798          Client          Client  16019.0   \n",
       "\n",
       "    booking_id  \n",
       "0  RZTY8949870  \n",
       "1  RZTY8951370  \n",
       "2  RZTY8981128  \n",
       "3  RZTY8990388  \n",
       "4  RZTY8994045  "
      ]
     },
     "execution_count": 36,
     "metadata": {},
     "output_type": "execute_result"
    }
   ],
   "source": [
    "sessions_df.head()"
   ]
  },
  {
   "cell_type": "code",
   "execution_count": 39,
   "id": "3d902606",
   "metadata": {},
   "outputs": [],
   "source": [
    "sessions_df['delta'] = (sessions_df['end_battery']-sessions_df['start_battery'])\n",
    "sessions_df = sessions_df[sessions_df['delta'] > 3]\n",
    "sessions_df['month'] = sessions_df['start_date'].dt.month\n",
    "month_dict = {2:\"Février\", 3: \"Mars\", 4:\"Avril\", 5: \"Mai\", 6: \"Juin\"}\n",
    "sessions_df['month'] = sessions_df['month'].map(month_dict)\n",
    "sessions_df['date0'] = pd.to_datetime([datetime.date(year=2022, month=1, day=1) for x in sessions_df.iterrows()])\n",
    "sessions_df['day']=(sessions_df['start_date']-sessions_df['date0']).dt.days+1\n",
    "sessions_df['created_id']=sessions_df['plate_number']+sessions_df['driver']+sessions_df['day'].astype(str)\n",
    "sessions_df.drop(['date0'], axis=1, inplace=True)"
   ]
  },
  {
   "cell_type": "code",
   "execution_count": 40,
   "id": "81ba116b",
   "metadata": {},
   "outputs": [],
   "source": [
    "sessions_df['last_mileage'] = sessions_df['mileage'].shift(1)\n",
    "sessions_df['last_plate'] = sessions_df['plate_number'].shift(1)\n",
    "sessions_df['distance'] = sessions_df['mileage'] - sessions_df['last_mileage']\n",
    "sessions_df.loc[sessions_df['last_plate']!=sessions_df['plate_number'], 'distance'] = 0"
   ]
  },
  {
   "cell_type": "code",
   "execution_count": 41,
   "id": "0b57d731",
   "metadata": {},
   "outputs": [],
   "source": [
    "sessions_df['kWh'] = 0\n",
    "sessions_df['kWh_used']=0\n",
    "sessions_df['battery_used'] = sessions_df['end_battery'].shift(1)-sessions_df['start_battery']"
   ]
  },
  {
   "cell_type": "code",
   "execution_count": 42,
   "id": "dae60a4c",
   "metadata": {},
   "outputs": [],
   "source": [
    "sessions_df.loc[sessions_df['model']=='ZOE', 'kWh'] = sessions_df.loc[sessions_df['model']=='ZOE', 'delta']*40/100\n",
    "sessions_df.loc[sessions_df['model']=='Spring', 'kWh'] = sessions_df.loc[sessions_df['model']=='Spring', 'delta']*27/100\n",
    "sessions_df.loc[sessions_df['model']=='ZOE', 'kWh_used'] = sessions_df.loc[sessions_df['model']=='ZOE', 'battery_used']*40/100\n",
    "sessions_df.loc[sessions_df['model']=='Spring', 'kWh_used'] = sessions_df.loc[sessions_df['model']=='Spring', 'battery_used']*27/100\n",
    "sessions_df['consumption'] = sessions_df['kWh_used']/sessions_df['distance']\n"
   ]
  },
  {
   "cell_type": "code",
   "execution_count": 43,
   "id": "c808c769",
   "metadata": {},
   "outputs": [],
   "source": [
    "sessions_df['kWh']=pd.to_numeric(sessions_df['kWh'])\n",
    "sessions_df['kWh_used']=pd.to_numeric(sessions_df['kWh_used'])"
   ]
  },
  {
   "cell_type": "markdown",
   "id": "f0c5f249",
   "metadata": {},
   "source": [
    "## Add 'site' column to match BUMP record --> do it with location..."
   ]
  },
  {
   "cell_type": "code",
   "execution_count": 123,
   "id": "8a0f7076",
   "metadata": {},
   "outputs": [],
   "source": [
    "def site(address):\n",
    "    if (\"Rue Censier\" in address) or (\"Jardin des Plantes\" in address) or (\"Geoffroy\" in address) or (\"Daubenton\" in address) or (\"Santeuil\" in address) or (\"Fer À Moulin\" in address) or (\"Georges Desplas\" in address) or (\"Poliveau\" in address) or (\"La Mosquée, 75005\" in address) or (\"Buffon\" in address):\n",
    "        return \"BMP - Paripark - Jardin des Plantes - Paris | 15 Rue Censier, 75005 Paris, France\"\n",
    "    elif (\"Moulin des\" in address) or (\"Tolbiac\" in address) or (\"Moulinet\" in address):\n",
    "        return \"BMP - Paripark - Moulin des Près - Paris | 62 Rue du Moulin des Prés, 75013 Paris, France\"\n",
    "    elif (\"Metra\" in address) or (\"Métra\" in address) or ('Rigoles' in address) or (\"Pyrénées\" in address) or (\"Lemaître\" in address) or (\"l'Ermitage\" in address) or (\"lErmitage\" in address) or (\"Belleville\" in address):\n",
    "        return \"BMP - Paripark - Olivier Metra - Paris | 35-49 Rue Olivier Métra, 75020 Paris\"\n",
    "    elif (\"Christine de Pisan\" in address) or (\"Saussure\" in address) or (\"Georges Picquart\" in address) or (\"Pereire\" in address) or (\"Voie Provisoire BV/17\" in address):\n",
    "        return \"BMP - Parking AVE - 17e | 7 Rue Christine de Pisan, 75017 Paris, France\"\n",
    "    elif \"Chardon Lagache\" in address:\n",
    "        return \"Belib/B90-1609 | 2 Rue Chardon Lagache\"\n",
    "    elif \"Ordener\" in address:\n",
    "        return \"Belib/B90-1805 | 27 Rue Ordener\"\n",
    "    elif \"Frères Voisin\" in address:\n",
    "        return \"Freshmile/SUERDA | 26 Allée des Frères Voisin\"\n",
    "    elif \"Léon Renault\" in address:\n",
    "        return \"La borne bleue/qznBqG3joK | 17 Rue Léon Renault\"\n",
    "    elif (\"École de Médecine\" in address) or (\"SAEMES\" in address) or (\"Hautefeuille\" in address):\n",
    "        return \"SAEMES/SAE-EDM | 21 Rue de l'École de Médecine\"\n",
    "    elif \"Avenue de la Cristallerie\" in address:\n",
    "        return \"SIGEIF et Izivia/FR*SIG*PSIGE*49 | 2 Avenue de la Cristallerie\"\n",
    "    elif \"Boulevard Victor Hugo\" in address:\n",
    "        return \"SIGEIF et Izivia/FR*SIG*PSIGE*89 | 123 Boulevard Victor Hugo\"\n",
    "    elif \"Avenue du Maréchal Foch\" in address:\n",
    "        return \"ATotal/TOTAL-NF058742 | Avenue du Maréchal Foch\"\n",
    "    elif \"Rue de Strasbourg\" in address:\n",
    "        return \"Total/TOTAL-NF059983 | 1 Rue de Strasbourg\"\n",
    "    elif (\"Zity\" in address) or (\"Yves Kermen\" in address) or (\"Boulogne-Billancourt\" in address):\n",
    "        return 'Zity'\n",
    "    else :\n",
    "        return \"NO MATCH\""
   ]
  },
  {
   "cell_type": "code",
   "execution_count": 79,
   "id": "efdf1949",
   "metadata": {},
   "outputs": [],
   "source": [
    "def loc_site(coords, radius):\n",
    "    if geopy.distance.geodesic(coords, (48.84085668270345, 2.3547124332890457)).km < radius:\n",
    "        return \"BMP - Paripark - Jardin des Plantes - Paris | 15 Rue Censier, 75005 Paris, France\"\n",
    "    elif geopy.distance.geodesic(coords, (48.8267037597978, 2.3531090981614864)).km < radius:\n",
    "        return \"BMP - Paripark - Moulin des Près - Paris | 62 Rue du Moulin des Prés, 75013 Paris, France\"\n",
    "    elif geopy.distance.geodesic(coords, (48.873684950802044, 2.393388557688522)).km < radius:\n",
    "        return \"BMP - Paripark - Olivier Metra - Paris | 35-49 Rue Olivier Métra, 75020 Paris\"\n",
    "    elif geopy.distance.geodesic(coords, (48.88948797132723, 2.308701830754263)).km < radius:\n",
    "        return \"BMP - Parking AVE - 17e | 7 Rue Christine de Pisan, 75017 Paris, France\"\n",
    "    elif geopy.distance.geodesic(coords, (48.845888346615055, 2.2673247046686034)).km < radius:\n",
    "        return \"Belib/B90-1609 | 2 Rue Chardon Lagache\"\n",
    "    elif geopy.distance.geodesic(coords, (48.890703253173214, 2.354113050057324)).km < radius:\n",
    "        return \"Belib/B90-1805 | 27 Rue Ordener\"\n",
    "    elif geopy.distance.geodesic(coords, (48.82802014590191, 2.2716522760732465)).km < radius:\n",
    "        return \"Freshmile/SUERDA | 26 Allée des Frères Voisin\"\n",
    "    elif geopy.distance.geodesic(coords, (48.88124877267117, 2.4227016430401584)).km < radius:\n",
    "        return \"La borne bleue/qznBqG3joK | 17 Rue Léon Renault\"\n",
    "    elif geopy.distance.geodesic(coords, (48.85101291450305, 2.341009648307103)).km < radius:\n",
    "        return \"SAEMES/SAE-EDM | 21 Rue de l'École de Médecine\"\n",
    "    elif geopy.distance.geodesic(coords, (48.82681595930142, 2.2231016911032877)).km < radius:\n",
    "        return \"SIGEIF et Izivia/FR*SIG*PSIGE*49 | 2 Avenue de la Cristallerie\"\n",
    "    elif geopy.distance.geodesic(coords, (48.90231124074938, 2.317810962179574)).km < radius:\n",
    "        return \"SIGEIF et Izivia/FR*SIG*PSIGE*89 | 123 Boulevard Victor Hugo\"\n",
    "    elif geopy.distance.geodesic(coords, (48.90382732824149, 2.084128075565785)).km < radius:\n",
    "        return \"ATotal/TOTAL-NF058742 | Avenue du Maréchal Foch\"\n",
    "    elif geopy.distance.geodesic(coords, (48.891198447656116, 2.2475660676664218)).km < radius:\n",
    "        return \"Total/TOTAL-NF059983 | 1 Rue de Strasbourg\"\n",
    "    elif geopy.distance.geodesic(coords, (48.826157610628314, 2.2455017759875027)).km < radius:\n",
    "        return 'Zity'\n",
    "    else :\n",
    "        return \"NO MATCH\""
   ]
  },
  {
   "cell_type": "code",
   "execution_count": 80,
   "id": "13b8c368",
   "metadata": {},
   "outputs": [],
   "source": [
    "sessions_df['site'] = sessions_df['location'].map(lambda x: (loc_site(x, 0.4)))"
   ]
  },
  {
   "cell_type": "code",
   "execution_count": 81,
   "id": "8fcb32bf",
   "metadata": {},
   "outputs": [
    {
     "data": {
      "text/html": [
       "<div>\n",
       "<style scoped>\n",
       "    .dataframe tbody tr th:only-of-type {\n",
       "        vertical-align: middle;\n",
       "    }\n",
       "\n",
       "    .dataframe tbody tr th {\n",
       "        vertical-align: top;\n",
       "    }\n",
       "\n",
       "    .dataframe thead th {\n",
       "        text-align: right;\n",
       "    }\n",
       "</style>\n",
       "<table border=\"1\" class=\"dataframe\">\n",
       "  <thead>\n",
       "    <tr style=\"text-align: right;\">\n",
       "      <th></th>\n",
       "      <th>plate_number</th>\n",
       "      <th>model</th>\n",
       "      <th>start_date</th>\n",
       "      <th>end_date</th>\n",
       "      <th>start_battery</th>\n",
       "      <th>end_battery</th>\n",
       "      <th>adress</th>\n",
       "      <th>location</th>\n",
       "      <th>driver</th>\n",
       "      <th>next_driver</th>\n",
       "      <th>...</th>\n",
       "      <th>day</th>\n",
       "      <th>created_id</th>\n",
       "      <th>kWh</th>\n",
       "      <th>kWh_used</th>\n",
       "      <th>battery_used</th>\n",
       "      <th>last_mileage</th>\n",
       "      <th>last_plate</th>\n",
       "      <th>distance</th>\n",
       "      <th>consumption</th>\n",
       "      <th>site</th>\n",
       "    </tr>\n",
       "  </thead>\n",
       "  <tbody>\n",
       "    <tr>\n",
       "      <th>1</th>\n",
       "      <td>FB-386-YK</td>\n",
       "      <td>ZOE</td>\n",
       "      <td>2022-03-30 11:30:13</td>\n",
       "      <td>2022-03-30 13:18:19</td>\n",
       "      <td>9.0</td>\n",
       "      <td>85.0</td>\n",
       "      <td>15 Av. Charles de Gaulle, 92100 Boulogne-Billa...</td>\n",
       "      <td>48.85002136, 2.23768306</td>\n",
       "      <td>Van Huy NGUYEN</td>\n",
       "      <td>Van Huy NGUYEN</td>\n",
       "      <td>...</td>\n",
       "      <td>89</td>\n",
       "      <td>FB-386-YKVan Huy NGUYEN89</td>\n",
       "      <td>30.40</td>\n",
       "      <td>NaN</td>\n",
       "      <td>NaN</td>\n",
       "      <td>NaN</td>\n",
       "      <td>NaN</td>\n",
       "      <td>0.0</td>\n",
       "      <td>NaN</td>\n",
       "      <td>NO MATCH</td>\n",
       "    </tr>\n",
       "    <tr>\n",
       "      <th>7</th>\n",
       "      <td>FB-386-YK</td>\n",
       "      <td>ZOE</td>\n",
       "      <td>2022-04-11 20:19:00</td>\n",
       "      <td>2022-04-13 19:55:24</td>\n",
       "      <td>15.0</td>\n",
       "      <td>100.0</td>\n",
       "      <td>5bis Rue Mahias, 92100 Boulogne-Billancourt, F...</td>\n",
       "      <td>48.84577179, 2.234308</td>\n",
       "      <td>Madil Berkani</td>\n",
       "      <td>Madil Berkani</td>\n",
       "      <td>...</td>\n",
       "      <td>101</td>\n",
       "      <td>FB-386-YKClient101</td>\n",
       "      <td>34.00</td>\n",
       "      <td>28.00</td>\n",
       "      <td>70.0</td>\n",
       "      <td>15939.0</td>\n",
       "      <td>FB-386-YK</td>\n",
       "      <td>163.0</td>\n",
       "      <td>0.171779</td>\n",
       "      <td>NO MATCH</td>\n",
       "    </tr>\n",
       "    <tr>\n",
       "      <th>9</th>\n",
       "      <td>FB-386-YK</td>\n",
       "      <td>ZOE</td>\n",
       "      <td>2022-04-18 16:39:24</td>\n",
       "      <td>2022-04-19 19:16:26</td>\n",
       "      <td>14.0</td>\n",
       "      <td>100.0</td>\n",
       "      <td>12 Rue de lÉcole de Médecine, 75006 Paris, France</td>\n",
       "      <td>48.85112381, 2.34090495</td>\n",
       "      <td>luc talbot</td>\n",
       "      <td>Alexandre Makunga</td>\n",
       "      <td>...</td>\n",
       "      <td>108</td>\n",
       "      <td>FB-386-YKluc talbot108</td>\n",
       "      <td>34.40</td>\n",
       "      <td>34.40</td>\n",
       "      <td>86.0</td>\n",
       "      <td>16102.0</td>\n",
       "      <td>FB-386-YK</td>\n",
       "      <td>237.0</td>\n",
       "      <td>0.145148</td>\n",
       "      <td>SAEMES/SAE-EDM | 21 Rue de l'École de Médecine</td>\n",
       "    </tr>\n",
       "    <tr>\n",
       "      <th>10</th>\n",
       "      <td>FB-386-YK</td>\n",
       "      <td>ZOE</td>\n",
       "      <td>2022-04-24 19:18:29</td>\n",
       "      <td>2022-04-25 17:40:24</td>\n",
       "      <td>14.0</td>\n",
       "      <td>100.0</td>\n",
       "      <td>40ter Rue Olivier Métra, 75020 Paris, France</td>\n",
       "      <td>48.8736496, 2.39352894</td>\n",
       "      <td>Daniel Da Silva Meneses Campos</td>\n",
       "      <td>luc talbot</td>\n",
       "      <td>...</td>\n",
       "      <td>114</td>\n",
       "      <td>FB-386-YKDaniel Da Silva Meneses Campos114</td>\n",
       "      <td>34.40</td>\n",
       "      <td>34.40</td>\n",
       "      <td>86.0</td>\n",
       "      <td>16339.0</td>\n",
       "      <td>FB-386-YK</td>\n",
       "      <td>240.0</td>\n",
       "      <td>0.143333</td>\n",
       "      <td>BMP - Paripark - Olivier Metra - Paris | 35-49...</td>\n",
       "    </tr>\n",
       "    <tr>\n",
       "      <th>17</th>\n",
       "      <td>FB-386-YK</td>\n",
       "      <td>ZOE</td>\n",
       "      <td>2022-05-09 16:52:00</td>\n",
       "      <td>2022-05-16 12:18:00</td>\n",
       "      <td>16.0</td>\n",
       "      <td>99.0</td>\n",
       "      <td>79 Pl. Saint-Jacques, 75014 Paris, France</td>\n",
       "      <td>48.83380127, 2.3364501</td>\n",
       "      <td>Zity Paris 1</td>\n",
       "      <td>Client</td>\n",
       "      <td>...</td>\n",
       "      <td>129</td>\n",
       "      <td>FB-386-YKZity Paris 1129</td>\n",
       "      <td>33.20</td>\n",
       "      <td>33.60</td>\n",
       "      <td>84.0</td>\n",
       "      <td>16579.0</td>\n",
       "      <td>FB-386-YK</td>\n",
       "      <td>205.0</td>\n",
       "      <td>0.163902</td>\n",
       "      <td>NO MATCH</td>\n",
       "    </tr>\n",
       "    <tr>\n",
       "      <th>...</th>\n",
       "      <td>...</td>\n",
       "      <td>...</td>\n",
       "      <td>...</td>\n",
       "      <td>...</td>\n",
       "      <td>...</td>\n",
       "      <td>...</td>\n",
       "      <td>...</td>\n",
       "      <td>...</td>\n",
       "      <td>...</td>\n",
       "      <td>...</td>\n",
       "      <td>...</td>\n",
       "      <td>...</td>\n",
       "      <td>...</td>\n",
       "      <td>...</td>\n",
       "      <td>...</td>\n",
       "      <td>...</td>\n",
       "      <td>...</td>\n",
       "      <td>...</td>\n",
       "      <td>...</td>\n",
       "      <td>...</td>\n",
       "      <td>...</td>\n",
       "    </tr>\n",
       "    <tr>\n",
       "      <th>9069</th>\n",
       "      <td>GB-945-JX</td>\n",
       "      <td>Spring</td>\n",
       "      <td>2022-05-15 15:34:00</td>\n",
       "      <td>2022-05-15 18:02:00</td>\n",
       "      <td>48.0</td>\n",
       "      <td>100.0</td>\n",
       "      <td>12 Rue Censier, 75005 Paris, France</td>\n",
       "      <td>48.8409462, 2.35452151</td>\n",
       "      <td>Seraphin TAM</td>\n",
       "      <td>Seraphin TAM</td>\n",
       "      <td>...</td>\n",
       "      <td>135</td>\n",
       "      <td>GB-945-JXSeraphin TAM135</td>\n",
       "      <td>14.04</td>\n",
       "      <td>0.00</td>\n",
       "      <td>0.0</td>\n",
       "      <td>1902.0</td>\n",
       "      <td>GB-945-JX</td>\n",
       "      <td>0.0</td>\n",
       "      <td>NaN</td>\n",
       "      <td>BMP - Paripark - Jardin des Plantes - Paris | ...</td>\n",
       "    </tr>\n",
       "    <tr>\n",
       "      <th>9071</th>\n",
       "      <td>GB-945-JX</td>\n",
       "      <td>Spring</td>\n",
       "      <td>2022-05-23 12:42:00</td>\n",
       "      <td>2022-05-23 14:14:00</td>\n",
       "      <td>11.0</td>\n",
       "      <td>100.0</td>\n",
       "      <td>6 Rue Santeuil, 75005 Paris, France</td>\n",
       "      <td>48.83982086, 2.35476589</td>\n",
       "      <td>Alexandre Makunga</td>\n",
       "      <td>Client</td>\n",
       "      <td>...</td>\n",
       "      <td>143</td>\n",
       "      <td>GB-945-JXAlexandre Makunga143</td>\n",
       "      <td>24.03</td>\n",
       "      <td>24.03</td>\n",
       "      <td>89.0</td>\n",
       "      <td>1902.0</td>\n",
       "      <td>GB-945-JX</td>\n",
       "      <td>185.0</td>\n",
       "      <td>0.129892</td>\n",
       "      <td>BMP - Paripark - Jardin des Plantes - Paris | ...</td>\n",
       "    </tr>\n",
       "    <tr>\n",
       "      <th>9072</th>\n",
       "      <td>GB-945-JX</td>\n",
       "      <td>Spring</td>\n",
       "      <td>2022-05-29 00:59:00</td>\n",
       "      <td>2022-05-29 02:25:00</td>\n",
       "      <td>6.0</td>\n",
       "      <td>100.0</td>\n",
       "      <td>4 Rue Christine de Pisan, 75017 Paris, France</td>\n",
       "      <td>48.8890419, 2.30907369</td>\n",
       "      <td>hicham boulahtit</td>\n",
       "      <td>hicham boulahtit</td>\n",
       "      <td>...</td>\n",
       "      <td>149</td>\n",
       "      <td>GB-945-JXhicham boulahtit149</td>\n",
       "      <td>25.38</td>\n",
       "      <td>25.38</td>\n",
       "      <td>94.0</td>\n",
       "      <td>2087.0</td>\n",
       "      <td>GB-945-JX</td>\n",
       "      <td>189.0</td>\n",
       "      <td>0.134286</td>\n",
       "      <td>BMP - Parking AVE - 17e | 7 Rue Christine de P...</td>\n",
       "    </tr>\n",
       "    <tr>\n",
       "      <th>9073</th>\n",
       "      <td>FZ-866-RF</td>\n",
       "      <td>Spring</td>\n",
       "      <td>2022-05-24 12:23:00</td>\n",
       "      <td>2022-05-25 17:29:00</td>\n",
       "      <td>4.0</td>\n",
       "      <td>57.0</td>\n",
       "      <td>28 Rue Yves Kermen, 92100 Boulogne-Billancourt...</td>\n",
       "      <td>48.82683945, 2.24457741</td>\n",
       "      <td>Armand  LEVEQUE</td>\n",
       "      <td>florian arnault</td>\n",
       "      <td>...</td>\n",
       "      <td>144</td>\n",
       "      <td>FZ-866-RFArmand  LEVEQUE 144</td>\n",
       "      <td>14.31</td>\n",
       "      <td>25.92</td>\n",
       "      <td>96.0</td>\n",
       "      <td>2276.0</td>\n",
       "      <td>GB-945-JX</td>\n",
       "      <td>0.0</td>\n",
       "      <td>inf</td>\n",
       "      <td>Zity</td>\n",
       "    </tr>\n",
       "    <tr>\n",
       "      <th>9075</th>\n",
       "      <td>FZ-866-RF</td>\n",
       "      <td>Spring</td>\n",
       "      <td>2022-05-27 16:21:00</td>\n",
       "      <td>2022-05-27 18:02:00</td>\n",
       "      <td>11.0</td>\n",
       "      <td>100.0</td>\n",
       "      <td>15 Rue Censier Parking du jardin des plantes A...</td>\n",
       "      <td>48.84051132, 2.35485458</td>\n",
       "      <td>Alexandre Makunga</td>\n",
       "      <td>Alexandre Makunga</td>\n",
       "      <td>...</td>\n",
       "      <td>147</td>\n",
       "      <td>FZ-866-RFAlexandre Makunga147</td>\n",
       "      <td>24.03</td>\n",
       "      <td>12.42</td>\n",
       "      <td>46.0</td>\n",
       "      <td>3040.0</td>\n",
       "      <td>FZ-866-RF</td>\n",
       "      <td>91.0</td>\n",
       "      <td>0.136484</td>\n",
       "      <td>BMP - Paripark - Jardin des Plantes - Paris | ...</td>\n",
       "    </tr>\n",
       "  </tbody>\n",
       "</table>\n",
       "<p>4209 rows × 24 columns</p>\n",
       "</div>"
      ],
      "text/plain": [
       "     plate_number   model          start_date            end_date  \\\n",
       "1       FB-386-YK     ZOE 2022-03-30 11:30:13 2022-03-30 13:18:19   \n",
       "7       FB-386-YK     ZOE 2022-04-11 20:19:00 2022-04-13 19:55:24   \n",
       "9       FB-386-YK     ZOE 2022-04-18 16:39:24 2022-04-19 19:16:26   \n",
       "10      FB-386-YK     ZOE 2022-04-24 19:18:29 2022-04-25 17:40:24   \n",
       "17      FB-386-YK     ZOE 2022-05-09 16:52:00 2022-05-16 12:18:00   \n",
       "...           ...     ...                 ...                 ...   \n",
       "9069    GB-945-JX  Spring 2022-05-15 15:34:00 2022-05-15 18:02:00   \n",
       "9071    GB-945-JX  Spring 2022-05-23 12:42:00 2022-05-23 14:14:00   \n",
       "9072    GB-945-JX  Spring 2022-05-29 00:59:00 2022-05-29 02:25:00   \n",
       "9073    FZ-866-RF  Spring 2022-05-24 12:23:00 2022-05-25 17:29:00   \n",
       "9075    FZ-866-RF  Spring 2022-05-27 16:21:00 2022-05-27 18:02:00   \n",
       "\n",
       "      start_battery  end_battery  \\\n",
       "1               9.0         85.0   \n",
       "7              15.0        100.0   \n",
       "9              14.0        100.0   \n",
       "10             14.0        100.0   \n",
       "17             16.0         99.0   \n",
       "...             ...          ...   \n",
       "9069           48.0        100.0   \n",
       "9071           11.0        100.0   \n",
       "9072            6.0        100.0   \n",
       "9073            4.0         57.0   \n",
       "9075           11.0        100.0   \n",
       "\n",
       "                                                 adress  \\\n",
       "1     15 Av. Charles de Gaulle, 92100 Boulogne-Billa...   \n",
       "7     5bis Rue Mahias, 92100 Boulogne-Billancourt, F...   \n",
       "9     12 Rue de lÉcole de Médecine, 75006 Paris, France   \n",
       "10         40ter Rue Olivier Métra, 75020 Paris, France   \n",
       "17            79 Pl. Saint-Jacques, 75014 Paris, France   \n",
       "...                                                 ...   \n",
       "9069                12 Rue Censier, 75005 Paris, France   \n",
       "9071                6 Rue Santeuil, 75005 Paris, France   \n",
       "9072      4 Rue Christine de Pisan, 75017 Paris, France   \n",
       "9073  28 Rue Yves Kermen, 92100 Boulogne-Billancourt...   \n",
       "9075  15 Rue Censier Parking du jardin des plantes A...   \n",
       "\n",
       "                     location                          driver  \\\n",
       "1     48.85002136, 2.23768306                  Van Huy NGUYEN   \n",
       "7       48.84577179, 2.234308                   Madil Berkani   \n",
       "9     48.85112381, 2.34090495                      luc talbot   \n",
       "10     48.8736496, 2.39352894  Daniel Da Silva Meneses Campos   \n",
       "17     48.83380127, 2.3364501                    Zity Paris 1   \n",
       "...                       ...                             ...   \n",
       "9069   48.8409462, 2.35452151                    Seraphin TAM   \n",
       "9071  48.83982086, 2.35476589               Alexandre Makunga   \n",
       "9072   48.8890419, 2.30907369                hicham boulahtit   \n",
       "9073  48.82683945, 2.24457741                Armand  LEVEQUE    \n",
       "9075  48.84051132, 2.35485458               Alexandre Makunga   \n",
       "\n",
       "            next_driver  ...  day                                  created_id  \\\n",
       "1        Van Huy NGUYEN  ...   89                   FB-386-YKVan Huy NGUYEN89   \n",
       "7         Madil Berkani  ...  101                          FB-386-YKClient101   \n",
       "9     Alexandre Makunga  ...  108                      FB-386-YKluc talbot108   \n",
       "10           luc talbot  ...  114  FB-386-YKDaniel Da Silva Meneses Campos114   \n",
       "17               Client  ...  129                    FB-386-YKZity Paris 1129   \n",
       "...                 ...  ...  ...                                         ...   \n",
       "9069       Seraphin TAM  ...  135                    GB-945-JXSeraphin TAM135   \n",
       "9071             Client  ...  143               GB-945-JXAlexandre Makunga143   \n",
       "9072   hicham boulahtit  ...  149                GB-945-JXhicham boulahtit149   \n",
       "9073    florian arnault  ...  144                FZ-866-RFArmand  LEVEQUE 144   \n",
       "9075  Alexandre Makunga  ...  147               FZ-866-RFAlexandre Makunga147   \n",
       "\n",
       "        kWh kWh_used  battery_used last_mileage  last_plate  distance  \\\n",
       "1     30.40      NaN           NaN          NaN         NaN       0.0   \n",
       "7     34.00    28.00          70.0      15939.0   FB-386-YK     163.0   \n",
       "9     34.40    34.40          86.0      16102.0   FB-386-YK     237.0   \n",
       "10    34.40    34.40          86.0      16339.0   FB-386-YK     240.0   \n",
       "17    33.20    33.60          84.0      16579.0   FB-386-YK     205.0   \n",
       "...     ...      ...           ...          ...         ...       ...   \n",
       "9069  14.04     0.00           0.0       1902.0   GB-945-JX       0.0   \n",
       "9071  24.03    24.03          89.0       1902.0   GB-945-JX     185.0   \n",
       "9072  25.38    25.38          94.0       2087.0   GB-945-JX     189.0   \n",
       "9073  14.31    25.92          96.0       2276.0   GB-945-JX       0.0   \n",
       "9075  24.03    12.42          46.0       3040.0   FZ-866-RF      91.0   \n",
       "\n",
       "      consumption                                               site  \n",
       "1             NaN                                           NO MATCH  \n",
       "7        0.171779                                           NO MATCH  \n",
       "9        0.145148     SAEMES/SAE-EDM | 21 Rue de l'École de Médecine  \n",
       "10       0.143333  BMP - Paripark - Olivier Metra - Paris | 35-49...  \n",
       "17       0.163902                                           NO MATCH  \n",
       "...           ...                                                ...  \n",
       "9069          NaN  BMP - Paripark - Jardin des Plantes - Paris | ...  \n",
       "9071     0.129892  BMP - Paripark - Jardin des Plantes - Paris | ...  \n",
       "9072     0.134286  BMP - Parking AVE - 17e | 7 Rue Christine de P...  \n",
       "9073          inf                                               Zity  \n",
       "9075     0.136484  BMP - Paripark - Jardin des Plantes - Paris | ...  \n",
       "\n",
       "[4209 rows x 24 columns]"
      ]
     },
     "execution_count": 81,
     "metadata": {},
     "output_type": "execute_result"
    }
   ],
   "source": [
    "sessions_df"
   ]
  },
  {
   "cell_type": "code",
   "execution_count": 83,
   "id": "f91a9db4",
   "metadata": {},
   "outputs": [
    {
     "data": {
      "text/plain": [
       "BMP - Paripark - Olivier Metra - Paris | 35-49 Rue Olivier Métra, 75020 Paris                840\n",
       "BMP - Paripark - Jardin des Plantes - Paris | 15 Rue Censier, 75005 Paris, France            791\n",
       "BMP - Parking AVE - 17e | 7 Rue Christine de Pisan, 75017 Paris, France                      713\n",
       "BMP - Paripark - Moulin des Près - Paris | 62 Rue du Moulin des Prés, 75013 Paris, France    634\n",
       "Freshmile/SUERDA | 26 Allée des Frères Voisin                                                590\n",
       "NO MATCH                                                                                     438\n",
       "SAEMES/SAE-EDM | 21 Rue de l'École de Médecine                                               121\n",
       "Zity                                                                                          70\n",
       "SIGEIF et Izivia/FR*SIG*PSIGE*89 | 123 Boulevard Victor Hugo                                   6\n",
       "Belib/B90-1609 | 2 Rue Chardon Lagache                                                         5\n",
       "Belib/B90-1805 | 27 Rue Ordener                                                                1\n",
       "Name: site, dtype: int64"
      ]
     },
     "execution_count": 83,
     "metadata": {},
     "output_type": "execute_result"
    }
   ],
   "source": [
    "sessions_df['site'].value_counts()"
   ]
  },
  {
   "cell_type": "code",
   "execution_count": null,
   "id": "a2a238be",
   "metadata": {},
   "outputs": [],
   "source": []
  },
  {
   "cell_type": "markdown",
   "id": "4b4a479d",
   "metadata": {},
   "source": [
    "## When charge is from a client, check if the next booking is from a driver"
   ]
  },
  {
   "cell_type": "code",
   "execution_count": 84,
   "id": "2cd6abc5",
   "metadata": {},
   "outputs": [],
   "source": [
    "sessions_df.loc[sessions_df['driver']=='Client', 'driver'] = sessions_df.loc[sessions_df['driver']=='Client', 'next_driver']"
   ]
  },
  {
   "cell_type": "markdown",
   "id": "7264f4c2",
   "metadata": {},
   "source": [
    "### Tests and plots"
   ]
  },
  {
   "cell_type": "code",
   "execution_count": 85,
   "id": "76ea4854",
   "metadata": {},
   "outputs": [
    {
     "name": "stdout",
     "output_type": "stream",
     "text": [
      "8\n"
     ]
    }
   ],
   "source": [
    "print(len(sessions_df[sessions_df['model']==\"ZOE\"][sessions_df['distance']>395]))"
   ]
  },
  {
   "cell_type": "code",
   "execution_count": 86,
   "id": "58af4936",
   "metadata": {},
   "outputs": [],
   "source": [
    "zoe_percent = sessions_df[sessions_df['model']=='ZOE'][sessions_df['month']=='Mai']['delta'].sum()\n",
    "spring_percent = sessions_df[sessions_df['model']=='Spring'][sessions_df['month']=='Mai']['delta'].sum()"
   ]
  },
  {
   "cell_type": "code",
   "execution_count": 87,
   "id": "522f11c3",
   "metadata": {},
   "outputs": [],
   "source": [
    "zoe_kwh = zoe_percent*40/100\n",
    "spring_kwh = spring_percent*27/100"
   ]
  },
  {
   "cell_type": "code",
   "execution_count": 88,
   "id": "65bad3b2",
   "metadata": {},
   "outputs": [
    {
     "name": "stdout",
     "output_type": "stream",
     "text": [
      "21732.8 28077.57\n"
     ]
    }
   ],
   "source": [
    "print(zoe_kwh, spring_kwh)"
   ]
  },
  {
   "cell_type": "code",
   "execution_count": 89,
   "id": "7a98cd5f",
   "metadata": {},
   "outputs": [
    {
     "name": "stdout",
     "output_type": "stream",
     "text": [
      "49810.369999999995\n"
     ]
    }
   ],
   "source": [
    "print(zoe_kwh+spring_kwh)"
   ]
  },
  {
   "cell_type": "code",
   "execution_count": 90,
   "id": "713545ab",
   "metadata": {},
   "outputs": [
    {
     "data": {
      "text/plain": [
       "<AxesSubplot:xlabel='start_date'>"
      ]
     },
     "execution_count": 90,
     "metadata": {},
     "output_type": "execute_result"
    },
    {
     "data": {
      "image/png": "[encoded data removed]",
      "text/plain": [
       "<Figure size 1080x576 with 1 Axes>"
      ]
     },
     "metadata": {
      "needs_background": "light"
     },
     "output_type": "display_data"
    }
   ],
   "source": [
    "sessions_df[sessions_df['distance']!=0][sessions_df['battery_used']>0][sessions_df['consumption']<0.3][sessions_df['consumption']>0.05].plot(x='start_date', y='consumption', figsize=(15, 8))"
   ]
  },
  {
   "cell_type": "code",
   "execution_count": 91,
   "id": "7e1c0a39",
   "metadata": {},
   "outputs": [
    {
     "data": {
      "text/plain": [
       "<AxesSubplot:xlabel='start_date'>"
      ]
     },
     "execution_count": 91,
     "metadata": {},
     "output_type": "execute_result"
    },
    {
     "data": {
      "image/png": "[encoded data removed]",
      "text/plain": [
       "<Figure size 1080x576 with 1 Axes>"
      ]
     },
     "metadata": {
      "needs_background": "light"
     },
     "output_type": "display_data"
    }
   ],
   "source": [
    "sessions_df[sessions_df['distance']!=0][sessions_df['battery_used']>0][sessions_df['consumption']<0.3][sessions_df['consumption']>0.05].plot(x='start_date', y='kWh', figsize=(15, 8))"
   ]
  },
  {
   "cell_type": "code",
   "execution_count": 92,
   "id": "45857b01",
   "metadata": {},
   "outputs": [
    {
     "data": {
      "text/plain": [
       "count    3424.000000\n",
       "mean       26.149550\n",
       "std         7.446373\n",
       "min         1.080000\n",
       "25%        23.490000\n",
       "50%        24.840000\n",
       "75%        32.900000\n",
       "max        40.000000\n",
       "Name: kWh, dtype: float64"
      ]
     },
     "execution_count": 92,
     "metadata": {},
     "output_type": "execute_result"
    }
   ],
   "source": [
    "sessions_df[sessions_df['distance']!=0][sessions_df['battery_used']>0][sessions_df['consumption']<0.3][sessions_df['consumption']>0.05]['kWh'].describe()"
   ]
  },
  {
   "cell_type": "code",
   "execution_count": 93,
   "id": "28cae9a7",
   "metadata": {},
   "outputs": [
    {
     "data": {
      "text/plain": [
       "Van Huy NGUYEN       620\n",
       "Madil Berkani        355\n",
       "Moke N Kazi          340\n",
       "Mathias Riguet       281\n",
       "Alexandre Makunga    243\n",
       "                    ... \n",
       "RRG Courbevoie         1\n",
       "Abou DIABY             1\n",
       "Zity Paris 2           1\n",
       "Jordi Carbonell        1\n",
       "RRG Charenton          1\n",
       "Name: driver, Length: 74, dtype: int64"
      ]
     },
     "execution_count": 93,
     "metadata": {},
     "output_type": "execute_result"
    }
   ],
   "source": [
    "sessions_df['driver'].value_counts()"
   ]
  },
  {
   "cell_type": "code",
   "execution_count": 94,
   "id": "b0aae68d",
   "metadata": {},
   "outputs": [
    {
     "data": {
      "text/plain": [
       "count    1467.000000\n",
       "mean       31.785958\n",
       "std         8.189801\n",
       "min         1.600000\n",
       "25%        32.000000\n",
       "50%        34.400000\n",
       "75%        36.000000\n",
       "max        40.000000\n",
       "Name: kWh, dtype: float64"
      ]
     },
     "execution_count": 94,
     "metadata": {},
     "output_type": "execute_result"
    }
   ],
   "source": [
    "sessions_df[sessions_df['model']=='ZOE']['kWh'].describe()"
   ]
  },
  {
   "cell_type": "code",
   "execution_count": 95,
   "id": "c943c78a",
   "metadata": {},
   "outputs": [
    {
     "data": {
      "text/plain": [
       "798.41"
      ]
     },
     "execution_count": 95,
     "metadata": {},
     "output_type": "execute_result"
    }
   ],
   "source": [
    "sessions_df[sessions_df['driver']==\"Client\"]['kWh'].sum()"
   ]
  },
  {
   "cell_type": "code",
   "execution_count": 96,
   "id": "8f184473",
   "metadata": {},
   "outputs": [
    {
     "data": {
      "text/plain": [
       " inf         516\n",
       " 0.135000     33\n",
       "-0.000000     23\n",
       " 0.133333     14\n",
       " 0.150000     12\n",
       "            ... \n",
       " 0.113496      1\n",
       " 0.162679      1\n",
       " 0.138506      1\n",
       " 0.152601      1\n",
       " 0.129685      1\n",
       "Name: consumption, Length: 2150, dtype: int64"
      ]
     },
     "execution_count": 96,
     "metadata": {},
     "output_type": "execute_result"
    }
   ],
   "source": [
    "sessions_df['consumption'].value_counts()"
   ]
  },
  {
   "cell_type": "code",
   "execution_count": 97,
   "id": "5ffeb7ed",
   "metadata": {},
   "outputs": [
    {
     "name": "stdout",
     "output_type": "stream",
     "text": [
      "91\n"
     ]
    }
   ],
   "source": [
    "print(len(sessions_df.loc[sessions_df['driver']==\"Client\"]))"
   ]
  },
  {
   "cell_type": "code",
   "execution_count": 102,
   "id": "51eb151d",
   "metadata": {},
   "outputs": [
    {
     "data": {
      "text/plain": [
       "51714.84"
      ]
     },
     "execution_count": 102,
     "metadata": {},
     "output_type": "execute_result"
    }
   ],
   "source": [
    "sessions_df[sessions_df['site']!='NO MATCH'][sessions_df['month']!='Mai']['kWh'].sum()"
   ]
  },
  {
   "cell_type": "code",
   "execution_count": 103,
   "id": "6b49e4ee",
   "metadata": {},
   "outputs": [
    {
     "data": {
      "text/plain": [
       "49467.9"
      ]
     },
     "execution_count": 103,
     "metadata": {},
     "output_type": "execute_result"
    }
   ],
   "source": [
    "sessions_df[sessions_df['site']!='NO MATCH'][sessions_df['month']!='Avril']['kWh'].sum()"
   ]
  },
  {
   "cell_type": "code",
   "execution_count": 100,
   "id": "bd7f1b44",
   "metadata": {},
   "outputs": [
    {
     "data": {
      "text/html": [
       "<div>\n",
       "<style scoped>\n",
       "    .dataframe tbody tr th:only-of-type {\n",
       "        vertical-align: middle;\n",
       "    }\n",
       "\n",
       "    .dataframe tbody tr th {\n",
       "        vertical-align: top;\n",
       "    }\n",
       "\n",
       "    .dataframe thead th {\n",
       "        text-align: right;\n",
       "    }\n",
       "</style>\n",
       "<table border=\"1\" class=\"dataframe\">\n",
       "  <thead>\n",
       "    <tr style=\"text-align: right;\">\n",
       "      <th></th>\n",
       "      <th>plate_number</th>\n",
       "      <th>driver</th>\n",
       "      <th>start_adress</th>\n",
       "      <th>end_adress</th>\n",
       "      <th>end_location</th>\n",
       "      <th>mileage_start</th>\n",
       "      <th>mileage_end</th>\n",
       "      <th>booking_end_date__date</th>\n",
       "      <th>booking_start_date__date</th>\n",
       "      <th>distance</th>\n",
       "      <th>battery_level_at_start</th>\n",
       "      <th>battery_level_at_end</th>\n",
       "      <th>car_model</th>\n",
       "      <th>booking_id</th>\n",
       "      <th>start_date_time</th>\n",
       "      <th>end_date_time</th>\n",
       "      <th>charging</th>\n",
       "      <th>delta</th>\n",
       "      <th>month</th>\n",
       "    </tr>\n",
       "  </thead>\n",
       "  <tbody>\n",
       "    <tr>\n",
       "      <th>26726</th>\n",
       "      <td>GB-945-JX</td>\n",
       "      <td>Client</td>\n",
       "      <td>6 Rue Santeuil, 75005 Paris, France</td>\n",
       "      <td>6 Rue Santeuil, 75005 Paris, France</td>\n",
       "      <td>48.83982086, 2.35476589</td>\n",
       "      <td>2087.0</td>\n",
       "      <td>2087.0</td>\n",
       "      <td>5/23/2022 2:34:00 PM</td>\n",
       "      <td>5/23/2022 2:14:00 PM</td>\n",
       "      <td>0</td>\n",
       "      <td>100</td>\n",
       "      <td>100</td>\n",
       "      <td>Spring</td>\n",
       "      <td>RZTY9227697</td>\n",
       "      <td>2022-05-23 14:14:00</td>\n",
       "      <td>2022-05-23 14:34:00</td>\n",
       "      <td>False</td>\n",
       "      <td>0</td>\n",
       "      <td>Mai</td>\n",
       "    </tr>\n",
       "  </tbody>\n",
       "</table>\n",
       "</div>"
      ],
      "text/plain": [
       "      plate_number  driver                         start_adress  \\\n",
       "26726    GB-945-JX  Client  6 Rue Santeuil, 75005 Paris, France   \n",
       "\n",
       "                                end_adress             end_location  \\\n",
       "26726  6 Rue Santeuil, 75005 Paris, France  48.83982086, 2.35476589   \n",
       "\n",
       "       mileage_start  mileage_end booking_end_date__date  \\\n",
       "26726         2087.0       2087.0   5/23/2022 2:34:00 PM   \n",
       "\n",
       "      booking_start_date__date  distance  battery_level_at_start  \\\n",
       "26726     5/23/2022 2:14:00 PM         0                     100   \n",
       "\n",
       "       battery_level_at_end car_model   booking_id     start_date_time  \\\n",
       "26726                   100    Spring  RZTY9227697 2022-05-23 14:14:00   \n",
       "\n",
       "            end_date_time  charging  delta month  \n",
       "26726 2022-05-23 14:34:00     False      0   Mai  "
      ]
     },
     "execution_count": 100,
     "metadata": {},
     "output_type": "execute_result"
    }
   ],
   "source": [
    "df.loc[df['booking_id']==\"RZTY9227697\"]"
   ]
  },
  {
   "cell_type": "code",
   "execution_count": null,
   "id": "f1c9a8fc",
   "metadata": {},
   "outputs": [],
   "source": []
  },
  {
   "cell_type": "code",
   "execution_count": 101,
   "id": "aa636b10",
   "metadata": {},
   "outputs": [],
   "source": [
    "sessions_df.to_csv(\"charging_sessions2.csv\")"
   ]
  },
  {
   "cell_type": "code",
   "execution_count": null,
   "id": "d54e552b",
   "metadata": {},
   "outputs": [],
   "source": []
  },
  {
   "cell_type": "code",
   "execution_count": null,
   "id": "05e19e9c",
   "metadata": {},
   "outputs": [],
   "source": []
  },
  {
   "cell_type": "code",
   "execution_count": null,
   "id": "323bee00",
   "metadata": {},
   "outputs": [],
   "source": []
  },
  {
   "cell_type": "code",
   "execution_count": null,
   "id": "ec11ddcd",
   "metadata": {},
   "outputs": [],
   "source": []
  },
  {
   "cell_type": "code",
   "execution_count": null,
   "id": "b5f4a5a1",
   "metadata": {},
   "outputs": [],
   "source": []
  },
  {
   "cell_type": "code",
   "execution_count": null,
   "id": "187bb0b9",
   "metadata": {},
   "outputs": [],
   "source": []
  },
  {
   "cell_type": "code",
   "execution_count": null,
   "id": "921e400c",
   "metadata": {},
   "outputs": [],
   "source": []
  },
  {
   "cell_type": "code",
   "execution_count": null,
   "id": "fc4b3931",
   "metadata": {},
   "outputs": [],
   "source": []
  },
  {
   "cell_type": "code",
   "execution_count": null,
   "id": "3ca54728",
   "metadata": {},
   "outputs": [],
   "source": []
  },
  {
   "cell_type": "code",
   "execution_count": null,
   "id": "f63fa68f",
   "metadata": {},
   "outputs": [],
   "source": []
  },
  {
   "cell_type": "code",
   "execution_count": null,
   "id": "26086897",
   "metadata": {},
   "outputs": [],
   "source": []
  },
  {
   "cell_type": "code",
   "execution_count": null,
   "id": "c72df3a8",
   "metadata": {},
   "outputs": [],
   "source": []
  },
  {
   "cell_type": "code",
   "execution_count": null,
   "id": "520b0983",
   "metadata": {},
   "outputs": [],
   "source": []
  },
  {
   "cell_type": "code",
   "execution_count": null,
   "id": "b0c26495",
   "metadata": {},
   "outputs": [],
   "source": []
  },
  {
   "cell_type": "code",
   "execution_count": null,
   "id": "05f7d85c",
   "metadata": {},
   "outputs": [],
   "source": []
  },
  {
   "cell_type": "code",
   "execution_count": null,
   "id": "f2d92ca1",
   "metadata": {},
   "outputs": [],
   "source": []
  },
  {
   "cell_type": "code",
   "execution_count": null,
   "id": "56c0f6f7",
   "metadata": {},
   "outputs": [],
   "source": []
  },
  {
   "cell_type": "code",
   "execution_count": null,
   "id": "a1df6961",
   "metadata": {},
   "outputs": [],
   "source": []
  },
  {
   "cell_type": "code",
   "execution_count": null,
   "id": "8e5f650e",
   "metadata": {},
   "outputs": [],
   "source": []
  },
  {
   "cell_type": "code",
   "execution_count": null,
   "id": "c2c473a5",
   "metadata": {},
   "outputs": [],
   "source": []
  }
 ],
 "metadata": {
  "kernelspec": {
   "display_name": "Python 3",
   "language": "python",
   "name": "python3"
  },
  "language_info": {
   "codemirror_mode": {
    "name": "ipython",
    "version": 3
   },
   "file_extension": ".py",
   "mimetype": "text/x-python",
   "name": "python",
   "nbconvert_exporter": "python",
   "pygments_lexer": "ipython3",
   "version": "3.8.8"
  },
  "vscode": {
   "interpreter": {
    "hash": "612614de5fa7a9a111088c0068d976bb5aa6c7257d7ec869e4d078eee331ba92"
   }
  }
 },
 "nbformat": 4,
 "nbformat_minor": 5
}
